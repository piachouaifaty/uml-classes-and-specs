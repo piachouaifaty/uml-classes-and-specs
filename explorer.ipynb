{
 "cells": [
  {
   "cell_type": "code",
   "id": "initial_id",
   "metadata": {
    "collapsed": true,
    "ExecuteTime": {
     "end_time": "2025-05-26T10:27:11.204630Z",
     "start_time": "2025-05-26T10:27:11.199521Z"
    }
   },
   "source": [
    "import pandas as pd\n",
    "import os\n",
    "import matplotlib.pyplot as plt\n",
    "import seaborn as sns\n",
    "import tarfile\n",
    "import urllib.request"
   ],
   "outputs": [],
   "execution_count": 2
  },
  {
   "metadata": {},
   "cell_type": "markdown",
   "source": "Download full dataset, set up working directory",
   "id": "ac64a39efc88efa2"
  },
  {
   "metadata": {
    "ExecuteTime": {
     "end_time": "2025-05-26T10:28:21.882957Z",
     "start_time": "2025-05-26T10:28:21.854135Z"
    }
   },
   "cell_type": "code",
   "source": [
    "# Automatically set working dir to the notebook location\n",
    "base_dir = os.path.dirname(os.path.abspath(\"__file__\"))  # __file__ is undefined in notebooks\n",
    "print(base_dir)\n",
    "os.chdir(base_dir)\n",
    "\n",
    "# Dataset details\n",
    "url = \"https://github.com/songyang-dev/uml-classes-and-specs/releases/download/v1.0.0/dataset.tar.gz\"\n",
    "tar_path = \"dataset.tar.gz\"\n",
    "extract_dir = \"dataset\"\n",
    "\n",
    "# Download dataset if not already present\n",
    "if not os.path.exists(tar_path):\n",
    "    print(\"Downloading dataset...\")\n",
    "    urllib.request.urlretrieve(url, tar_path)\n",
    "    print(\"Download complete.\")\n",
    "else:\n",
    "    print(\"Dataset archive already exists. Skipping download.\")\n",
    "\n",
    "# Extract dataset if not already extracted (in 'dataset')\n",
    "if not os.path.isdir(extract_dir):\n",
    "    print(\"Extracting dataset into folder 'dataset/'...\")\n",
    "    os.makedirs(extract_dir, exist_ok=True)\n",
    "    with tarfile.open(tar_path, \"r:gz\") as tar:\n",
    "        tar.extractall(path=extract_dir)  # Extract inside 'dataset'\n",
    "    print(\"Extraction complete.\")\n",
    "else:\n",
    "    print(\"Dataset already extracted.\")\n",
    "\n",
    "# Count total number of files extracted\n",
    "file_count = sum(len(files) for _, _, files in os.walk(extract_dir))\n",
    "print(f\"{file_count} files found in '{extract_dir}'.\")"
   ],
   "id": "57bf970a62c31d6d",
   "outputs": [
    {
     "name": "stdout",
     "output_type": "stream",
     "text": [
      "/Users/piachouaifaty/GitHub/Siemens___Task/uml-classes-and-specs\n",
      "Dataset archive already exists. Skipping download.\n",
      "Dataset already extracted.\n",
      "25877 files found in 'dataset'.\n"
     ]
    }
   ],
   "execution_count": 4
  },
  {
   "metadata": {},
   "cell_type": "code",
   "outputs": [],
   "execution_count": null,
   "source": "",
   "id": "dad74dca6b539f86"
  },
  {
   "metadata": {},
   "cell_type": "code",
   "outputs": [],
   "execution_count": null,
   "source": [
    "# Load CSVs\n",
    "fragments = pd.read_csv(\"fragments.csv\")\n",
    "labels = pd.read_csv(\"labels.csv\")\n",
    "models = pd.read_csv(\"models.csv\")"
   ],
   "id": "b98e819dd07b5565"
  },
  {
   "metadata": {},
   "cell_type": "markdown",
   "source": "",
   "id": "54778c20a65d23cd"
  }
 ],
 "metadata": {
  "kernelspec": {
   "display_name": "Python 3",
   "language": "python",
   "name": "python3"
  },
  "language_info": {
   "codemirror_mode": {
    "name": "ipython",
    "version": 2
   },
   "file_extension": ".py",
   "mimetype": "text/x-python",
   "name": "python",
   "nbconvert_exporter": "python",
   "pygments_lexer": "ipython2",
   "version": "2.7.6"
  }
 },
 "nbformat": 4,
 "nbformat_minor": 5
}
